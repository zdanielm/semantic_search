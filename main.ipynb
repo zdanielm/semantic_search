{
 "cells": [
  {
   "cell_type": "markdown",
   "metadata": {},
   "source": [
    "# Geometric Data Analysis Project (Semantic Search)"
   ]
  },
  {
   "cell_type": "markdown",
   "metadata": {},
   "source": [
    "## 1. Loading Data Into DB & Embedding"
   ]
  },
  {
   "cell_type": "code",
   "execution_count": null,
   "metadata": {},
   "outputs": [],
   "source": [
    "import polars as pl  # Dataframe library for loading initial dataset\n",
    "from playhouse.postgres_ext import PostgresqlExtDatabase  # Peewee ORM with extras\n",
    "\n",
    "from utilities.models import (  # ORM Classes\n",
    "    database_driver, # Database driver to be used (Uses `config.yaml`)\n",
    "    create_tables,\n",
    "    Patent, # Main class, holding the texts\n",
    "    arctic_noverlap,\n",
    "    arctic_recursive,\n",
    "    arctic_sliding,\n",
    "    minilm_noverlap,\n",
    "    minilm_recursive,\n",
    "    minilm_sliding,\n",
    ")\n",
    "from utilities.setup import load_config  # Loading Database config\n"
   ]
  },
  {
   "cell_type": "markdown",
   "metadata": {},
   "source": [
    "Loading train and test split of \"Nuclear Patents\", which is small enough for efficient handling, but large enough for more advanced methods:"
   ]
  },
  {
   "cell_type": "code",
   "execution_count": null,
   "metadata": {},
   "outputs": [],
   "source": [
    "# Loads train and test split of \"Nuclear Patents\"\n",
    "# Small enough for efficient handling\n",
    "\n",
    "splits = {'train': 'data/train-00000-of-00001.parquet', 'test': 'data/test-00000-of-00001.parquet'}\n",
    "train = pl.read_parquet('hf://datasets/arcee-ai/nuclear_patents/' + splits['train'])\n",
    "test = pl.read_parquet('hf://datasets/arcee-ai/nuclear_patents/' + splits['test'])\n",
    "\n",
    "# Combining train and test splits and filtering out nulls\n",
    "patent_data = pl.concat([train, test]).filter(pl.col(['patent_number', 'section', 'raw_text']).is_not_null())\n",
    "\n",
    "patent_data.head()"
   ]
  },
  {
   "cell_type": "markdown",
   "metadata": {},
   "source": [
    "Creating the specified tables (Connection and ORM models are set up in `utilities/models.py`):"
   ]
  },
  {
   "cell_type": "code",
   "execution_count": null,
   "metadata": {},
   "outputs": [],
   "source": [
    "create_tables()"
   ]
  },
  {
   "cell_type": "markdown",
   "metadata": {},
   "source": [
    "Inserting the data from `patent_data` into `patents` table"
   ]
  },
  {
   "cell_type": "code",
   "execution_count": null,
   "metadata": {},
   "outputs": [],
   "source": [
    "def bulk_insert_patents(patent_data: pl.DataFrame) -> None:\n",
    "    with database_driver.atomic():\n",
    "        batch_size = 1000\n",
    "\n",
    "        patent_records = patent_data.to_dicts()\n",
    "\n",
    "        for i in range(0, len(patent_records), batch_size):\n",
    "            batch = patent_records[i:i + batch_size]\n",
    "\n",
    "            # Bulk insert batch\n",
    "            Patent.insert_many(batch).execute()\n",
    "\n",
    "            print(f\"Inserted records {i} to {min(i + batch_size, len(patent_records))}\")\n",
    "    print(f\"Insertion: Successful ({len(patent_records)} recurds created)\")"
   ]
  },
  {
   "cell_type": "markdown",
   "metadata": {},
   "source": [
    "Loading embedding models (MiniLM, Arctic Embed M) and chunkers (No overlap splitter, recursive splitter, sliding window splitter)"
   ]
  },
  {
   "cell_type": "code",
   "execution_count": null,
   "metadata": {},
   "outputs": [],
   "source": [
    "from langchain.text_splitter import CharacterTextSplitter, RecursiveCharacterTextSplitter\n",
    "from sentence_transformers import SentenceTransformer"
   ]
  },
  {
   "cell_type": "code",
   "execution_count": null,
   "metadata": {},
   "outputs": [],
   "source": [
    "mini_lm = SentenceTransformer('sentence-transformers/all-MiniLM-L6-v2')\n",
    "arctic_embed = SentenceTransformer('Snowflake/snowflake-arctic-embed-m')"
   ]
  }
 ],
 "metadata": {
  "language_info": {
   "name": "python"
  }
 },
 "nbformat": 4,
 "nbformat_minor": 2
}
